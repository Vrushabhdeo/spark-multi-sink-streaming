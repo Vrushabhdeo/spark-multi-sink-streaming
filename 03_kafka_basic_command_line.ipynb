{
 "cells": [
  {
   "cell_type": "code",
   "execution_count": null,
   "id": "822571a5-f6b5-44e9-b6f1-eec9fc1d9651",
   "metadata": {},
   "outputs": [],
   "source": [
    "[appuser@164f262ceb8c ~]$ kafka-topics --list --bootstrap-server localhost:29093\n",
    "\n",
    "[appuser@164f262ceb8c ~]$ kafka-topics --create --topic test-topic --bootstrap-server localhost:29093\n",
    "Created topic test-topic.\n",
    "[appuser@164f262ceb8c ~]$ kafka-topics --list --bootstrap-server localhost:29093\n",
    "test-topic\n",
    "[appuser@164f262ceb8c ~]$ kafka-topics --describe --topic test-topic --bootstrap-server localhost:29093\n",
    "Topic: test-topic\tTopicId: avRG-TOcQ_Kx4GadfF0ygg\tPartitionCount: 1\tReplicationFactor: 1\tConfigs: \n",
    "\tTopic: test-topic\tPartition: 0\tLeader: 3\tReplicas: 3\tIsr: 3\tElr: N/A\tLastKnownElr: N/A\n",
    "[appuser@164f262ceb8c ~]$ kafka-topics --create --topic test-topic-1 --partitions 3 --replication-factor 3 --bootstrap-server localhost:29093\n",
    "Created topic test-topic-1.\n",
    "[appuser@164f262ceb8c ~]$ kafka-topics --describe --topic test-topic-1 --bootstrap-server localhost:29093\n",
    "Topic: test-topic-1\tTopicId: lo-LgopZTOyG12COAt6iEg\tPartitionCount: 3\tReplicationFactor: 3\tConfigs: \n",
    "\tTopic: test-topic-1\tPartition: 0\tLeader: 2\tReplicas: 2,3,1\tIsr: 2,3,1\tElr: N/A\tLastKnownElr: N/A\n",
    "\tTopic: test-topic-1\tPartition: 1\tLeader: 3\tReplicas: 3,1,2\tIsr: 3,1,2\tElr: N/A\tLastKnownElr: N/A\n",
    "\tTopic: test-topic-1\tPartition: 2\tLeader: 1\tReplicas: 1,2,3\tIsr: 1,2,3\tElr: N/A\tLastKnownElr: N/A\n",
    "[appuser@164f262ceb8c ~]$ kafka-topics --create --topic test-topic-2 --partitions 4 --replication-factor 3 --bootstrap-server localhost:29093\n",
    "Created topic test-topic-2.\n",
    "[appuser@164f262ceb8c ~]$ kafka-topics --describe --topic test-topic-2 --bootstrap-server localhost:29093\n",
    "Topic: test-topic-2\tTopicId: NMKbbZdDS3KsIksblZpmKA\tPartitionCount: 4\tReplicationFactor: 3\tConfigs: \n",
    "\tTopic: test-topic-2\tPartition: 0\tLeader: 1\tReplicas: 1,2,3\tIsr: 1,2,3\tElr: N/A\tLastKnownElr: N/A\n",
    "\tTopic: test-topic-2\tPartition: 1\tLeader: 2\tReplicas: 2,3,1\tIsr: 2,3,1\tElr: N/A\tLastKnownElr: N/A\n",
    "\tTopic: test-topic-2\tPartition: 2\tLeader: 3\tReplicas: 3,1,2\tIsr: 3,1,2\tElr: N/A\tLastKnownElr: N/A\n",
    "\tTopic: test-topic-2\tPartition: 3\tLeader: 1\tReplicas: 1,3,2\tIsr: 1,3,2\tElr: N/A\tLastKnownElr: N/A\n",
    "[appuser@164f262ceb8c ~]$ kafka-topics --create --topic test-topic-3 --partitions 4 --replication-factor 4 --bootstrap-server localhost:29093\n",
    "Error while executing topic command : Replication factor: 4 larger than available brokers: 3.\n",
    "[2025-03-07 17:33:49,548] ERROR org.apache.kafka.common.errors.InvalidReplicationFactorException: Replication factor: 4 larger than available brokers: 3.\n",
    " (org.apache.kafka.tools.TopicCommand)\n",
    "[appuser@164f262ceb8c ~]$ kafka-get-offsets --topic test-topic-2 --bootstrap-server localhost:29093\n",
    "test-topic-2:0:0\n",
    "test-topic-2:1:0\n",
    "test-topic-2:2:0\n",
    "test-topic-2:3:0\n",
    "[appuser@164f262ceb8c ~]$ kafka-console-producer --topic test-topic-1 --bootstrap-server localhost:29093\n",
    ">spark streaming\n",
    ">kafka is awesome      \n",
    ">^C\n",
    "[appuser@164f262ceb8c ~kafka-get-offsets --topic test-topic-1 --bootstrap-server localhost:29093\n",
    "test-topic-1:0:0\n",
    "test-topic-1:1:0\n",
    "test-topic-1:2:2\n",
    "[appuser@164f262ceb8c ~]$ kafka-console-consumer --topic test-topic-1 --bootstrap-server localhost:29093 --partition 2 --offset earliest\n",
    "spark streaming\n",
    "kafka is awesome\n",
    "[appuser@164f262ceb8c ~]$ kafka-console-producer --topic test-topic-1 --bootstrap-server localhost:29093\n",
    ">this is just practice repo\n",
    ">                \n",
    "[appuser@164f262ceb8c ~]$ kafka-console-consumer --topic test-topic-1 --bootstrap-server localhost:29093\n",
    "this is just practice repo\n"
   ]
  }
 ],
 "metadata": {
  "kernelspec": {
   "display_name": "Python 3 (ipykernel)",
   "language": "python",
   "name": "python3"
  },
  "language_info": {
   "codemirror_mode": {
    "name": "ipython",
    "version": 3
   },
   "file_extension": ".py",
   "mimetype": "text/x-python",
   "name": "python",
   "nbconvert_exporter": "python",
   "pygments_lexer": "ipython3",
   "version": "3.10.16"
  }
 },
 "nbformat": 4,
 "nbformat_minor": 5
}
