{
 "cells": [
  {
   "cell_type": "code",
   "execution_count": 1,
   "id": "fe6cb628-44b1-42d9-92c3-0b3fc28be791",
   "metadata": {},
   "outputs": [
    {
     "data": {
      "text/html": [
       "\n",
       "            <div>\n",
       "                <p><b>SparkSession - in-memory</b></p>\n",
       "                \n",
       "        <div>\n",
       "            <p><b>SparkContext</b></p>\n",
       "\n",
       "            <p><a href=\"http://beb38ed1e6b8:4040\">Spark UI</a></p>\n",
       "\n",
       "            <dl>\n",
       "              <dt>Version</dt>\n",
       "                <dd><code>v3.3.0</code></dd>\n",
       "              <dt>Master</dt>\n",
       "                <dd><code>local[*]</code></dd>\n",
       "              <dt>AppName</dt>\n",
       "                <dd><code>Reading from Sockets</code></dd>\n",
       "            </dl>\n",
       "        </div>\n",
       "        \n",
       "            </div>\n",
       "        "
      ],
      "text/plain": [
       "<pyspark.sql.session.SparkSession at 0x7ffff82fa440>"
      ]
     },
     "execution_count": 1,
     "metadata": {},
     "output_type": "execute_result"
    }
   ],
   "source": [
    "from pyspark.sql import SparkSession\n",
    "\n",
    "spark = (\n",
    "    SparkSession\n",
    "    .builder\n",
    "    .appName(\"Reading from Sockets\")\n",
    "    .getOrCreate()\n",
    ")\n",
    "spark.conf.set(\"spark.sql.shuffle.partitions\", 8)\n",
    "spark"
   ]
  },
  {
   "cell_type": "code",
   "execution_count": 2,
   "id": "1eaa798d-308e-4c83-9c12-863c39ff445e",
   "metadata": {},
   "outputs": [
    {
     "name": "stdout",
     "output_type": "stream",
     "text": [
      "root\n",
      " |-- value: string (nullable = true)\n",
      "\n",
      "+--------------------+\n",
      "|               value|\n",
      "+--------------------+\n",
      "|simson had a dog ...|\n",
      "+--------------------+\n",
      "\n"
     ]
    }
   ],
   "source": [
    "# Code to Start the batch read\n",
    "\n",
    "df_raw = spark.read.format(\"text\").load(\"data/sample_input.txt\")\n",
    "\n",
    "df_raw.printSchema()\n",
    "df_raw.show()\n"
   ]
  },
  {
   "cell_type": "code",
   "execution_count": 22,
   "id": "eae4528f-789f-4f94-aa5c-18c34cc97261",
   "metadata": {},
   "outputs": [
    {
     "name": "stdout",
     "output_type": "stream",
     "text": [
      "+--------+\n",
      "|exploded|\n",
      "+--------+\n",
      "|simson  |\n",
      "|had     |\n",
      "|a       |\n",
      "|dog     |\n",
      "|long    |\n",
      "|back    |\n",
      "+--------+\n",
      "\n"
     ]
    }
   ],
   "source": [
    "# Split the line into words \n",
    "\n",
    "from pyspark.sql.functions import split, lit, explode, col\n",
    "\n",
    "df_words = df_raw.withColumn(\"splited\", split(df_raw.value, ' '))\n",
    "df_words = df_words.withColumn(\"exploded\", explode(col(\"splited\")))\n",
    "df_words = df_words.drop(\"value\",\"splited\")\n",
    "df_words.show(truncate=False)"
   ]
  },
  {
   "cell_type": "code",
   "execution_count": 24,
   "id": "a0c819ca-d70d-47a3-84b2-9e6f0be639fd",
   "metadata": {},
   "outputs": [
    {
     "name": "stdout",
     "output_type": "stream",
     "text": [
      "+--------+--------+\n",
      "|exploded|count(1)|\n",
      "+--------+--------+\n",
      "|  simson|       1|\n",
      "|    back|       1|\n",
      "|     dog|       1|\n",
      "|     had|       1|\n",
      "|    long|       1|\n",
      "|       a|       1|\n",
      "+--------+--------+\n",
      "\n"
     ]
    }
   ],
   "source": [
    "# Aggregate the words to generate count \n",
    "\n",
    "from pyspark.sql.functions import split, lit, explode, col, count\n",
    "df_agg = df_words.groupBy(\"exploded\").agg(count(lit(1))).alias(\"count\")\n",
    "df_agg.show()\n"
   ]
  },
  {
   "cell_type": "code",
   "execution_count": null,
   "id": "ff7d2d1c-0deb-4978-9804-8aaa276f0650",
   "metadata": {},
   "outputs": [],
   "source": [
    "# Code to Start the readStream"
   ]
  },
  {
   "cell_type": "code",
   "execution_count": 2,
   "id": "72bee941-ef6c-4fe9-838d-77048cec0835",
   "metadata": {},
   "outputs": [],
   "source": [
    "# Change the data into readStream\n",
    "df_stream_raw = spark.readStream.format(\"socket\").option(\"host\", \"localhost\").option(\"port\", \"9999\").load()"
   ]
  },
  {
   "cell_type": "code",
   "execution_count": 3,
   "id": "f118639d-d736-42af-bb6c-a3489de5c960",
   "metadata": {},
   "outputs": [],
   "source": [
    "# Split the line into words \n",
    "from pyspark.sql.functions import split, lit, explode, col, count\n",
    "df_steam_words = df_stream_raw.withColumn(\"splited\", split(df_stream_raw.value, ' '))\n",
    "df_steam_words = df_steam_words.withColumn(\"exploded\", explode(col(\"splited\")))\n",
    "df_steam_words = df_steam_words.drop(\"value\",\"splited\")\n",
    "df_stream_agg = df_steam_words.groupBy(\"exploded\").agg(count(lit(1))).alias(\"count\")"
   ]
  },
  {
   "cell_type": "code",
   "execution_count": null,
   "id": "5cdd694e-ea82-45fa-a383-fdc7903db14e",
   "metadata": {},
   "outputs": [],
   "source": [
    "# Aggregate the words to generate count \n",
    "# available outputMode are complete, update and append. \n",
    "df_stream_agg.writeStream.format(\"console\").outputMode(\"complete\").start().awaitTermination()"
   ]
  },
  {
   "cell_type": "code",
   "execution_count": null,
   "id": "3c31fc30-658f-41b6-bc29-6e49eb055b74",
   "metadata": {},
   "outputs": [],
   "source": [
    "# writeStream console Output, mode: complete \n",
    "\n",
    "25/03/04 17:18:05 WARN ResolveWriteToStream: Temporary checkpoint location created which is deleted normally when the query didn't fail: /tmp/temporary-e2097240-1b96-45d7-8d3a-a19d2ed22ce5. If it's required to delete it under any circumstances, please set spark.sql.streaming.forceDeleteTempCheckpointLocation to true. Important to know deleting temp checkpoint folder is best effort.\n",
    "25/03/04 17:18:05 WARN ResolveWriteToStream: spark.sql.adaptive.enabled is not supported in streaming DataFrames/Datasets and will be disabled.\n",
    "-------------------------------------------\n",
    "Batch: 0\n",
    "-------------------------------------------\n",
    "+--------+--------+\n",
    "|exploded|count(1)|\n",
    "+--------+--------+\n",
    "+--------+--------+\n",
    "\n",
    "[I 2025-03-04 17:19:14.737 ServerApp] Saving file at /spark-streaming/reading_from_sockets.ipynb\n",
    "-------------------------------------------\n",
    "Batch: 1\n",
    "-------------------------------------------\n",
    "+--------+--------+\n",
    "|exploded|count(1)|\n",
    "+--------+--------+\n",
    "|     cat|       1|\n",
    "|     owl|       1|\n",
    "|     dog|       1|\n",
    "+--------+--------+\n",
    "\n",
    "-------------------------------------------\n",
    "Batch: 2\n",
    "-------------------------------------------\n",
    "+--------+--------+\n",
    "|exploded|count(1)|\n",
    "+--------+--------+\n",
    "|     cat|       1|\n",
    "|   mouse|       1|\n",
    "|     owl|       1|\n",
    "|     dog|       2|\n",
    "+--------+--------+\n",
    "\n"
   ]
  },
  {
   "cell_type": "code",
   "execution_count": null,
   "id": "5b67567e-6d13-4563-ac52-23b08258bb8a",
   "metadata": {},
   "outputs": [],
   "source": [
    "df_stream_agg.writeStream.format(\"console\").outputMode(\"update\").start().awaitTermination()\n"
   ]
  },
  {
   "cell_type": "code",
   "execution_count": null,
   "id": "c5f95303-cad6-48ca-ad3c-8cf6fe66de58",
   "metadata": {},
   "outputs": [],
   "source": [
    "# writeStream console Output, mode: update \n",
    "\n",
    "25/03/04 17:42:39 WARN ResolveWriteToStream: Temporary checkpoint location created which is deleted normally when the query didn't fail: /tmp/temporary-c3c93400-8bd8-49c9-89da-2f6849673b31. If it's required to delete it under any circumstances, please set spark.sql.streaming.forceDeleteTempCheckpointLocation to true. Important to know deleting temp checkpoint folder is best effort.\n",
    "25/03/04 17:42:39 WARN ResolveWriteToStream: spark.sql.adaptive.enabled is not supported in streaming DataFrames/Datasets and will be disabled.\n",
    "-------------------------------------------\n",
    "Batch: 0\n",
    "-------------------------------------------\n",
    "+--------+--------+\n",
    "|exploded|count(1)|\n",
    "+--------+--------+\n",
    "+--------+--------+\n",
    "\n",
    "-------------------------------------------\n",
    "Batch: 1\n",
    "-------------------------------------------\n",
    "+--------+--------+\n",
    "|exploded|count(1)|\n",
    "+--------+--------+\n",
    "|     cat|       1|\n",
    "|     owl|       1|\n",
    "+--------+--------+"
   ]
  }
 ],
 "metadata": {
  "kernelspec": {
   "display_name": "Python 3 (ipykernel)",
   "language": "python",
   "name": "python3"
  },
  "language_info": {
   "codemirror_mode": {
    "name": "ipython",
    "version": 3
   },
   "file_extension": ".py",
   "mimetype": "text/x-python",
   "name": "python",
   "nbconvert_exporter": "python",
   "pygments_lexer": "ipython3",
   "version": "3.10.16"
  }
 },
 "nbformat": 4,
 "nbformat_minor": 5
}
