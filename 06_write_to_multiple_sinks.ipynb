{
 "cells": [
  {
   "cell_type": "code",
   "execution_count": 2,
   "id": "b148a8b0-33bf-435f-817d-a80fa0135cc9",
   "metadata": {},
   "outputs": [],
   "source": [
    "# Problem statement: \n",
    "\n",
    "# When we try to writeStream for multiple sink (for ex. parquet and postgres jdbc in this case)\n",
    "# each writeStream will maintain it's own checkpoint location and each of the writeStream will \n",
    "# read each bach data seperately leads to read of same offset twice\n",
    "\n",
    "\n",
    "# Solution: \n",
    "# To handle such situations, spark provides foreachBatch function which will take \n",
    "# dataframe and batch_id as input and writeStream to multiple sink results maintaining\n",
    "# only single checkpoint location for n number of sinks \n",
    "# For ex. .foreachBatch(<python_function>)\n",
    "# def <python_function>(dataframe, batch_id):\n",
    "#    dataframe.write...\n",
    "#    dataframe.write..."
   ]
  },
  {
   "cell_type": "code",
   "execution_count": 1,
   "id": "21ac0a6b-1b17-45e3-b191-66e58c517b30",
   "metadata": {},
   "outputs": [
    {
     "data": {
      "text/html": [
       "\n",
       "            <div>\n",
       "                <p><b>SparkSession - in-memory</b></p>\n",
       "                \n",
       "        <div>\n",
       "            <p><b>SparkContext</b></p>\n",
       "\n",
       "            <p><a href=\"http://beb38ed1e6b8:4040\">Spark UI</a></p>\n",
       "\n",
       "            <dl>\n",
       "              <dt>Version</dt>\n",
       "                <dd><code>v3.3.0</code></dd>\n",
       "              <dt>Master</dt>\n",
       "                <dd><code>local[*]</code></dd>\n",
       "              <dt>AppName</dt>\n",
       "                <dd><code>Kafka Multiple Sink</code></dd>\n",
       "            </dl>\n",
       "        </div>\n",
       "        \n",
       "            </div>\n",
       "        "
      ],
      "text/plain": [
       "<pyspark.sql.session.SparkSession at 0x7ffff82aae90>"
      ]
     },
     "execution_count": 1,
     "metadata": {},
     "output_type": "execute_result"
    }
   ],
   "source": [
    "# Create the Spark Session\n",
    "from pyspark.sql import SparkSession\n",
    "\n",
    "spark = (\n",
    "    SparkSession\n",
    "    .builder\n",
    "    .appName(\"Kafka Multiple Sink\")\n",
    "    .config(\"spark.streaming.stopGracefullyOnShutdown\", True)\n",
    "    .config(\"spark.jars.packages\", \"org.apache.spark:spark-sql-kafka-0-10_2.12:3.1.2\")\n",
    "    .config('spark.jars', \"/opt/spark/jars/postgresql-42.2.20.jar\")\n",
    "    .config(\"spark.sql.shuffle.partitions\", 8)\n",
    "    .master(\"local[*]\")\n",
    "    .getOrCreate()\n",
    ")\n",
    "\n",
    "spark"
   ]
  },
  {
   "cell_type": "code",
   "execution_count": null,
   "id": "723758da-6187-49f9-8258-9130a13b8d95",
   "metadata": {},
   "outputs": [],
   "source": [
    "\n",
    "try:\n",
    "    df = spark.read.format(\"jdbc\") \\\n",
    "        .option(\"url\", \"jdbc:postgresql://172.20.0.2:5432/sqlpad\") \\\n",
    "        .option(\"dbtable\", \"sqlpad\") \\\n",
    "        .option(\"user\", \"sqlpad\") \\\n",
    "        .option(\"password\", \"sqlpad\") \\\n",
    "        .option(\"driver\", \"org.postgresql.Driver\") \\\n",
    "        .load()\n",
    "\n",
    "    print(\"PostgreSQL connection successful!\")\n",
    "    df.show(5)  # Display a few rows to confirm data retrieval\n",
    "\n",
    "except Exception as e:\n",
    "    print(f\"Error connecting to PostgreSQL: {e}\")\n",
    "    "
   ]
  },
  {
   "cell_type": "code",
   "execution_count": 2,
   "id": "1e208605-2df6-40a4-b638-377f1ccebabf",
   "metadata": {},
   "outputs": [],
   "source": [
    "# Kafka Sample Input\n",
    "# {\"eventId\": \"ba2ea9f4-a5d9-434e-8e4d-1c80c2d4b456\", \"eventOffset\": 10000, \"eventPublisher\": \"device\", \"customerId\": \"CI00119\", \"data\": {\"devices\": []}, \"eventTime\": \"2023-01-05 11:13:53.643364\"}\n",
    "# {\"eventId\": \"e3cb26d3-41b2-49a2-84f3-0156ed8d7502\", \"eventOffset\": 10001, \"eventPublisher\": \"device\", \"customerId\": \"CI00103\", \"data\": {\"devices\": [{\"deviceId\": \"D001\", \"temperature\": 15, \"measure\": \"C\", \"status\": \"ERROR\"}, {\"deviceId\": \"D002\", \"temperature\": 16, \"measure\": \"C\", \"status\": \"SUCCESS\"}]}, \"eventTime\": \"2023-01-05 11:13:53.643364\"}\n"
   ]
  },
  {
   "cell_type": "code",
   "execution_count": 2,
   "id": "ad313d8f-f535-4788-ba3d-8e80c1105283",
   "metadata": {},
   "outputs": [],
   "source": [
    "# Create the kafka_df to read from kafka\n",
    "\n",
    "raw_kafka_df = (spark\n",
    "            .readStream\n",
    "            .format(\"kafka\")\n",
    "            .option(\"kafka.bootstrap.servers\", \"ed-kafka:29092\")\n",
    "            .option(\"subscribe\", \"device-data\")\n",
    "            .option(\"startingOffsets\", \"earliest\")\n",
    "            .load())\n"
   ]
  },
  {
   "cell_type": "code",
   "execution_count": 3,
   "id": "d5d10dd1-95bf-4438-8521-e9dbced44002",
   "metadata": {},
   "outputs": [
    {
     "name": "stdout",
     "output_type": "stream",
     "text": [
      "root\n",
      " |-- key: binary (nullable = true)\n",
      " |-- value: binary (nullable = true)\n",
      " |-- topic: string (nullable = true)\n",
      " |-- partition: integer (nullable = true)\n",
      " |-- offset: long (nullable = true)\n",
      " |-- timestamp: timestamp (nullable = true)\n",
      " |-- timestampType: integer (nullable = true)\n",
      "\n"
     ]
    }
   ],
   "source": [
    "# View schema for raw kafka_df\n",
    "\n",
    "raw_kafka_df.printSchema()\n",
    "# raw_kafka_df.show(truncate=False)\n",
    "\n",
    "# raw_kafka_df.rdd.getNumPartitions()\n",
    "# The NumPartitions will be 1 because topic: device-data is having on single partition\n",
    "# To increase the parallel processing we can have NumPartitions = no of kafka-topic partitions"
   ]
  },
  {
   "cell_type": "code",
   "execution_count": 4,
   "id": "ac25d6d1-89bc-4cfd-aeab-921310924599",
   "metadata": {},
   "outputs": [
    {
     "name": "stdout",
     "output_type": "stream",
     "text": [
      "root\n",
      " |-- key: binary (nullable = true)\n",
      " |-- value: string (nullable = true)\n",
      " |-- topic: string (nullable = true)\n",
      " |-- partition: integer (nullable = true)\n",
      " |-- offset: long (nullable = true)\n",
      " |-- timestamp: timestamp (nullable = true)\n",
      " |-- timestampType: integer (nullable = true)\n",
      "\n"
     ]
    }
   ],
   "source": [
    "# Parse value from binay to string into kafka_json_df\n",
    "\n",
    "from pyspark.sql.functions import expr\n",
    "raw_kafka_df = raw_kafka_df.withColumn(\"value\", expr(\"cast(value as string)\"))\n",
    "\n",
    "raw_kafka_df.printSchema()\n",
    "# raw_kafka_df.show(truncate=False)"
   ]
  },
  {
   "cell_type": "code",
   "execution_count": 5,
   "id": "70000ccf-731f-4c41-8545-09d5664a5698",
   "metadata": {},
   "outputs": [],
   "source": [
    "# Schema of the Pyaload\n",
    "from pyspark.sql.types import StringType, StructField, StructType, ArrayType, LongType\n",
    "\n",
    "json_schema = (\n",
    "    StructType(\n",
    "    [StructField('customerId', StringType(), True), \n",
    "    StructField('data', StructType(\n",
    "        [StructField('devices', \n",
    "                     ArrayType(StructType([ \n",
    "                        StructField('deviceId', StringType(), True), \n",
    "                        StructField('measure', StringType(), True), \n",
    "                        StructField('status', StringType(), True), \n",
    "                        StructField('temperature', LongType(), True)\n",
    "                    ]), True), True)\n",
    "        ]), True), \n",
    "    StructField('eventId', StringType(), True), \n",
    "    StructField('eventOffset', LongType(), True), \n",
    "    StructField('eventPublisher', StringType(), True), \n",
    "    StructField('eventTime', StringType(), True)\n",
    "    ])\n",
    ")"
   ]
  },
  {
   "cell_type": "code",
   "execution_count": 8,
   "id": "fa55afd9-f10f-4935-8408-bcb0838247ca",
   "metadata": {},
   "outputs": [
    {
     "name": "stdout",
     "output_type": "stream",
     "text": [
      "root\n",
      " |-- customerId: string (nullable = true)\n",
      " |-- data: struct (nullable = true)\n",
      " |    |-- devices: array (nullable = true)\n",
      " |    |    |-- element: struct (containsNull = true)\n",
      " |    |    |    |-- deviceId: string (nullable = true)\n",
      " |    |    |    |-- measure: string (nullable = true)\n",
      " |    |    |    |-- status: string (nullable = true)\n",
      " |    |    |    |-- temperature: long (nullable = true)\n",
      " |-- eventId: string (nullable = true)\n",
      " |-- eventOffset: long (nullable = true)\n",
      " |-- eventPublisher: string (nullable = true)\n",
      " |-- eventTime: string (nullable = true)\n",
      "\n"
     ]
    }
   ],
   "source": [
    "# Apply the schema to payload to read the data\n",
    "\n",
    "from pyspark.sql.functions import from_json, col\n",
    "\n",
    "raw_kafka_df = raw_kafka_df.withColumn(\"value_json\", from_json(col(\"value\"), json_schema)).selectExpr(\"value_json.*\")\n",
    "\n",
    "# To the schema of the data, place a sample json file and change readStream to read \n",
    "raw_kafka_df.printSchema()\n",
    "# raw_kafka_df.show(truncate=False)"
   ]
  },
  {
   "cell_type": "code",
   "execution_count": 9,
   "id": "5d05154f-bf24-4522-98bc-29aadcafcff2",
   "metadata": {},
   "outputs": [],
   "source": [
    "# Lets explode the data as devices contains list/array of device reading\n",
    "\n",
    "from pyspark.sql.functions import explode\n",
    "\n",
    "stream_exploded_df = raw_kafka_df.withColumn(\"data_devices\", explode(\"data.devices\"))"
   ]
  },
  {
   "cell_type": "code",
   "execution_count": 10,
   "id": "58a13e24-9751-4ece-aa86-a2286a882584",
   "metadata": {},
   "outputs": [
    {
     "name": "stdout",
     "output_type": "stream",
     "text": [
      "root\n",
      " |-- customerId: string (nullable = true)\n",
      " |-- data: struct (nullable = true)\n",
      " |    |-- devices: array (nullable = true)\n",
      " |    |    |-- element: struct (containsNull = true)\n",
      " |    |    |    |-- deviceId: string (nullable = true)\n",
      " |    |    |    |-- measure: string (nullable = true)\n",
      " |    |    |    |-- status: string (nullable = true)\n",
      " |    |    |    |-- temperature: long (nullable = true)\n",
      " |-- eventId: string (nullable = true)\n",
      " |-- eventOffset: long (nullable = true)\n",
      " |-- eventPublisher: string (nullable = true)\n",
      " |-- eventTime: string (nullable = true)\n",
      " |-- data_devices: struct (nullable = true)\n",
      " |    |-- deviceId: string (nullable = true)\n",
      " |    |-- measure: string (nullable = true)\n",
      " |    |-- status: string (nullable = true)\n",
      " |    |-- temperature: long (nullable = true)\n",
      "\n"
     ]
    }
   ],
   "source": [
    "# Check the schema of the exploded_df, place a sample json file and change readStream to read \n",
    "stream_exploded_df.printSchema()"
   ]
  },
  {
   "cell_type": "code",
   "execution_count": 11,
   "id": "ab9ae9fc-e4bb-44f1-aa89-d5540548fa18",
   "metadata": {},
   "outputs": [],
   "source": [
    "# Flatten the exploded df\n",
    "\n",
    "from pyspark.sql.functions import col\n",
    "\n",
    "stream_flattened_df = (\n",
    "    stream_exploded_df\n",
    "    .withColumn(\"deviceId\", col(\"data_devices.deviceId\"))\n",
    "    .withColumn(\"measure\", col(\"data_devices.measure\"))\n",
    "    .withColumn(\"status\", col(\"data_devices.status\"))\n",
    "    .withColumn(\"temperature\", col(\"data_devices.temperature\"))\n",
    "    .drop('data', 'data_devices')\n",
    ")"
   ]
  },
  {
   "cell_type": "code",
   "execution_count": 12,
   "id": "6f5c1675-7cc5-454d-864f-83296144ee6e",
   "metadata": {},
   "outputs": [
    {
     "name": "stdout",
     "output_type": "stream",
     "text": [
      "root\n",
      " |-- customerId: string (nullable = true)\n",
      " |-- eventId: string (nullable = true)\n",
      " |-- eventOffset: long (nullable = true)\n",
      " |-- eventPublisher: string (nullable = true)\n",
      " |-- eventTime: string (nullable = true)\n",
      " |-- deviceId: string (nullable = true)\n",
      " |-- measure: string (nullable = true)\n",
      " |-- status: string (nullable = true)\n",
      " |-- temperature: long (nullable = true)\n",
      "\n"
     ]
    }
   ],
   "source": [
    "# Check the schema of the flattened_df, place a sample json file and change readStream to read \n",
    "stream_flattened_df.printSchema()"
   ]
  },
  {
   "cell_type": "code",
   "execution_count": 13,
   "id": "1a7fc762-d8b0-4fd2-a844-c05241b89a5a",
   "metadata": {},
   "outputs": [],
   "source": [
    "\n",
    "def write_multiple_sink(df, batch_id):\n",
    "    print(\"Processing batch Id: \" + str(batch_id))\n",
    "    (\n",
    "        df\n",
    "        .write\n",
    "        .format(\"parquet\")\n",
    "        .mode(\"append\")\n",
    "        .save(\"data/06_write_to_multiple_sinks/output/device_data.parquet/\")\n",
    "    )\n",
    "\n",
    "    (\n",
    "        df\n",
    "        .write\n",
    "        .format(\"jdbc\")\n",
    "        .mode(\"append\")\n",
    "        .option(\"driver\", \"org.postgresql.Driver\")\n",
    "        .option(\"url\", \"jdbc:postgresql://localhost:5432/sqlpad\")\n",
    "        .option(\"dbtable\", \"device_data\")\n",
    "        .option(\"user\", \"sqlpad\")\n",
    "        .option(\"password\", \"sqlpad\")\n",
    "        .save()\n",
    "    )"
   ]
  },
  {
   "cell_type": "code",
   "execution_count": null,
   "id": "ef7a0e2c-b145-48a0-bc6e-f1bcaa96f42f",
   "metadata": {},
   "outputs": [
    {
     "name": "stdout",
     "output_type": "stream",
     "text": [
      "Processing batch Id: 0\n",
      "Processing batch Id: 1\n",
      "Processing batch Id: 2\n",
      "Processing batch Id: 3\n",
      "Processing batch Id: 4\n",
      "Processing batch Id: 5\n"
     ]
    }
   ],
   "source": [
    "# Running foreachBatch\n",
    "# Write the output to Multiple Sinks\n",
    "\n",
    "( stream_flattened_df\n",
    " .writeStream\n",
    " .foreachBatch(write_multiple_sink)\n",
    " .option(\"checkPointLocation\", \"checkpoint_dir\")\n",
    " .trigger(processingTime='10 seconds')\n",
    " .start()\n",
    " .awaitTermination()\n",
    ")"
   ]
  },
  {
   "cell_type": "code",
   "execution_count": null,
   "id": "8f857dda-a43b-4831-af62-073ad1874586",
   "metadata": {},
   "outputs": [],
   "source": []
  }
 ],
 "metadata": {
  "kernelspec": {
   "display_name": "Python 3 (ipykernel)",
   "language": "python",
   "name": "python3"
  },
  "language_info": {
   "codemirror_mode": {
    "name": "ipython",
    "version": 3
   },
   "file_extension": ".py",
   "mimetype": "text/x-python",
   "name": "python",
   "nbconvert_exporter": "python",
   "pygments_lexer": "ipython3",
   "version": "3.10.16"
  }
 },
 "nbformat": 4,
 "nbformat_minor": 5
}
